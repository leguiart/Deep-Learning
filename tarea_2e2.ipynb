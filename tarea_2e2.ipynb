{
  "nbformat": 4,
  "nbformat_minor": 0,
  "metadata": {
    "kernelspec": {
      "display_name": "Python 3 (ipykernel)",
      "language": "python",
      "name": "python3"
    },
    "language_info": {
      "codemirror_mode": {
        "name": "ipython",
        "version": 3
      },
      "file_extension": ".py",
      "mimetype": "text/x-python",
      "name": "python",
      "nbconvert_exporter": "python",
      "pygments_lexer": "ipython3",
      "version": "3.8.11"
    },
    "colab": {
      "name": "tarea_2e2.ipynb",
      "provenance": [],
      "collapsed_sections": [
        "glySKtozXfbP"
      ],
      "machine_shape": "hm",
      "include_colab_link": true
    },
    "accelerator": "GPU"
  },
  "cells": [
    {
      "cell_type": "markdown",
      "metadata": {
        "id": "view-in-github",
        "colab_type": "text"
      },
      "source": [
        "<a href=\"https://colab.research.google.com/github/leguiart/Deep-Learning/blob/main/tarea_2e2.ipynb\" target=\"_parent\"><img src=\"https://colab.research.google.com/assets/colab-badge.svg\" alt=\"Open In Colab\"/></a>"
      ]
    },
    {
      "cell_type": "markdown",
      "metadata": {
        "id": "iBa9SB8QXfbK"
      },
      "source": [
        "# Ejercicio 2: Reconocimiento de acciones humanas usando RNNs \n",
        "\n",
        "\n",
        "\n",
        "---\n",
        "---\n",
        "\n",
        "Se emplea un modelo basado en RNNs y otro en una CNN1D para reconocimiento de acciones humanas (HAR) en el conjunto [UCF11](https://www.crcv.ucf.edu/data/UCF_YouTube_Action.php).\n",
        "\n",
        "<img src=\"https://www.cs.ucf.edu/~liujg/realistic_actions/youtube_snaps.jpg\" />\n"
      ]
    },
    {
      "cell_type": "markdown",
      "metadata": {
        "id": "FywLmI0GXfbM"
      },
      "source": [
        "## 1 Preparación"
      ]
    },
    {
      "cell_type": "markdown",
      "metadata": {
        "id": "adTe-R5JXfbN"
      },
      "source": [
        "### 1.1 Bibliotecas"
      ]
    },
    {
      "cell_type": "code",
      "metadata": {
        "id": "5FOlod4DXfbN",
        "colab": {
          "base_uri": "https://localhost:8080/"
        },
        "outputId": "f13f3766-5d35-4db6-aae2-91dc622feee9"
      },
      "source": [
        "# Colab\n",
        "# https://github.com/TylerYep/torchinfo\n",
        "!pip install torchinfo\n",
        "# https://zarr.readthedocs.io/en/stable/\n",
        "!pip install zarr"
      ],
      "execution_count": 4,
      "outputs": [
        {
          "output_type": "stream",
          "name": "stdout",
          "text": [
            "Collecting torchinfo\n",
            "  Downloading torchinfo-1.5.3-py3-none-any.whl (19 kB)\n",
            "Installing collected packages: torchinfo\n",
            "Successfully installed torchinfo-1.5.3\n",
            "Collecting zarr\n",
            "  Downloading zarr-2.10.2-py3-none-any.whl (146 kB)\n",
            "\u001b[K     |████████████████████████████████| 146 kB 4.3 MB/s \n",
            "\u001b[?25hCollecting asciitree\n",
            "  Downloading asciitree-0.3.3.tar.gz (4.0 kB)\n",
            "Collecting numcodecs>=0.6.4\n",
            "  Downloading numcodecs-0.9.1-cp37-cp37m-manylinux2010_x86_64.whl (6.2 MB)\n",
            "\u001b[K     |████████████████████████████████| 6.2 MB 13.2 MB/s \n",
            "\u001b[?25hRequirement already satisfied: numpy>=1.7 in /usr/local/lib/python3.7/dist-packages (from zarr) (1.19.5)\n",
            "Collecting fasteners\n",
            "  Downloading fasteners-0.16.3-py2.py3-none-any.whl (28 kB)\n",
            "Requirement already satisfied: six in /usr/local/lib/python3.7/dist-packages (from fasteners->zarr) (1.15.0)\n",
            "Building wheels for collected packages: asciitree\n",
            "  Building wheel for asciitree (setup.py) ... \u001b[?25l\u001b[?25hdone\n",
            "  Created wheel for asciitree: filename=asciitree-0.3.3-py3-none-any.whl size=5051 sha256=b9971ae26ff056daa2af4f66e627de03e906d63f9170a4365f47151a6cb29281\n",
            "  Stored in directory: /root/.cache/pip/wheels/12/1c/38/0def51e15add93bff3f4bf9c248b94db0839b980b8535e72a0\n",
            "Successfully built asciitree\n",
            "Installing collected packages: numcodecs, fasteners, asciitree, zarr\n",
            "Successfully installed asciitree-0.3.3 fasteners-0.16.3 numcodecs-0.9.1 zarr-2.10.2\n"
          ]
        }
      ]
    },
    {
      "cell_type": "code",
      "metadata": {
        "id": "Ny0L2LzogTN-"
      },
      "source": [
        "# sistema de archivos\n",
        "import os\n",
        "# funciones aleatorias\n",
        "import random\n",
        "# descomprimir\n",
        "import tarfile\n",
        "# sistema de archivos\n",
        "from os.path import join\n",
        "\n",
        "# arreglos multidimensionales\n",
        "import numpy as np\n",
        "# redes neuronales\n",
        "import torch\n",
        "import torch.nn as nn\n",
        "import torch.nn.functional as F\n",
        "import torch.optim as optim\n",
        "import torchvision.datasets.utils as tvu\n",
        "import math\n",
        "# almacenamiento de arreglos multidimensionales\n",
        "import zarr\n",
        "#redes\n",
        "from torch.utils.data import DataLoader, random_split\n",
        "# inspección de arquitectura\n",
        "from torchinfo import summary\n",
        "\n",
        "# directorio de datos\n",
        "DATA_DIR = '../data'\n",
        "\n",
        "# tamaño del lote\n",
        "BATCH_SIZE = 32\n",
        "# tamaño del vector de características\n",
        "FEAT_SIZE = 1024\n",
        "\n",
        "# reproducibilidad\n",
        "SEED = 0\n",
        "random.seed(SEED)\n",
        "np.random.seed(SEED)\n",
        "torch_gen = torch.manual_seed(SEED)\n",
        "device = torch.device('cuda' if torch.cuda.is_available() else 'cpu')"
      ],
      "execution_count": 39,
      "outputs": []
    },
    {
      "cell_type": "markdown",
      "metadata": {
        "id": "cEZw5jaSXfbP"
      },
      "source": [
        "## 2 Datos"
      ]
    },
    {
      "cell_type": "markdown",
      "metadata": {
        "id": "glySKtozXfbP"
      },
      "source": [
        "### 2.1 Conjunto de datos"
      ]
    },
    {
      "cell_type": "code",
      "metadata": {
        "id": "4MzAXtUdXfbQ"
      },
      "source": [
        "class UCF11:\n",
        "\n",
        "    def __init__(self, root, download=False):\n",
        "        self.root = root\n",
        "        self.zarr_dir = join(root, 'ucf11.zarr')\n",
        "        if download:\n",
        "            self.download()\n",
        "        self.z = zarr.open(self.zarr_dir, 'r')\n",
        "        self.paths = list(self.z.array_keys())\n",
        "        \n",
        "    def __getitem__(self, i):\n",
        "        arr = self.z[self.paths[i]]\n",
        "        x = np.array(arr)\n",
        "        y = np.array(arr.attrs['y'], dtype=np.int64)\n",
        "        return x, y\n",
        "\n",
        "    def __len__(self):\n",
        "        return len(self.paths)\n",
        "    \n",
        "    def _check_integrity(self):\n",
        "        return os.path.isdir(self.zarr_dir)\n",
        "    \n",
        "    def _extract(self, root, filename):\n",
        "        tar = tarfile.open(join(root, filename), \"r:gz\")\n",
        "        tar.extractall(root)\n",
        "        tar.close()\n",
        "\n",
        "    def download(self):\n",
        "        if self._check_integrity():\n",
        "            print('Files already downloaded and verified')\n",
        "            return\n",
        "        tvu.download_url(\n",
        "            url='https://cloud.xibalba.com.mx/s/apYrNA4iM4K65o7/download',\n",
        "            root=self.root,\n",
        "            filename='ucf11.zarr.tar.gz',\n",
        "            md5='c8a82454f9ec092d00bcd99c849e03fd'\n",
        "        )\n",
        "        self._extract(self.root, 'ucf11.zarr.tar.gz')"
      ],
      "execution_count": 40,
      "outputs": []
    },
    {
      "cell_type": "markdown",
      "metadata": {
        "id": "nRU3_H1KXfbQ"
      },
      "source": [
        "### 2.2 Instancia del conjunto y partición"
      ]
    },
    {
      "cell_type": "code",
      "metadata": {
        "id": "AHgiDjUUXfbR",
        "colab": {
          "base_uri": "https://localhost:8080/"
        },
        "outputId": "b4150aed-ae3d-45f3-fa59-37d5cf9da40d"
      },
      "source": [
        "ds = UCF11(join(DATA_DIR, 'ucf11'), True)\n",
        "x, y = ds[0]\n",
        "print(f'x shape={x.shape} dtype={x.dtype}')\n",
        "print(f'x [0][:5]={x[0][:5]}')\n",
        "print(f'y shape={y.shape} dtype={y.dtype} {y}')\n",
        "print(f'y {y}')"
      ],
      "execution_count": 41,
      "outputs": [
        {
          "output_type": "stream",
          "name": "stdout",
          "text": [
            "Files already downloaded and verified\n",
            "x shape=(10, 1024) dtype=float32\n",
            "x [0][:5]=[0.00022111 0.00368518 0.00314753 0.00201778 0.09296297]\n",
            "y shape=() dtype=int64 0\n",
            "y 0\n"
          ]
        }
      ]
    },
    {
      "cell_type": "code",
      "metadata": {
        "id": "ypQRahKlXfbR",
        "colab": {
          "base_uri": "https://localhost:8080/"
        },
        "outputId": "7e8882ea-bcc6-45af-c9be-0aa4475c7422"
      },
      "source": [
        "trn_size = int(0.8 * len(ds))\n",
        "tst_size = len(ds) - trn_size\n",
        "trn_ds, tst_ds = random_split(ds, [trn_size, tst_size])\n",
        "len(trn_ds), len(tst_ds)"
      ],
      "execution_count": 42,
      "outputs": [
        {
          "output_type": "execute_result",
          "data": {
            "text/plain": [
              "(1279, 320)"
            ]
          },
          "metadata": {},
          "execution_count": 42
        }
      ]
    },
    {
      "cell_type": "markdown",
      "metadata": {
        "id": "b6AjuElvXfbS"
      },
      "source": [
        "### 2.3 Cargadores de datos"
      ]
    },
    {
      "cell_type": "code",
      "metadata": {
        "id": "VsGl84-LXfbS"
      },
      "source": [
        "trn_dl = DataLoader(\n",
        "    # conjunto\n",
        "    trn_ds,\n",
        "    # tamaño del lote\n",
        "    batch_size=BATCH_SIZE,\n",
        "    # desordenar\n",
        "    shuffle=True,\n",
        "    # procesos paralelos\n",
        "    num_workers=2\n",
        ")\n",
        "tst_dl = DataLoader(\n",
        "    # conjunto\n",
        "    tst_ds,\n",
        "    # tamaño del lote\n",
        "    batch_size=BATCH_SIZE,\n",
        "    # desordenar\n",
        "    shuffle=True,\n",
        "    # procesos paralelos\n",
        "    num_workers=2\n",
        ")"
      ],
      "execution_count": 43,
      "outputs": []
    },
    {
      "cell_type": "code",
      "metadata": {
        "id": "AZQKEZIpXfbS",
        "colab": {
          "base_uri": "https://localhost:8080/"
        },
        "outputId": "2a3dddbc-e16b-473e-adc8-26c3ee968b0f"
      },
      "source": [
        "x, y = next(iter(trn_dl))\n",
        "print(f'x shape={x.shape} dtype={x.dtype}')\n",
        "print(f'y shape={y.shape} dtype={y.dtype}')"
      ],
      "execution_count": 44,
      "outputs": [
        {
          "output_type": "stream",
          "name": "stdout",
          "text": [
            "x shape=torch.Size([32, 10, 1024]) dtype=torch.float32\n",
            "y shape=torch.Size([32]) dtype=torch.int64\n"
          ]
        }
      ]
    },
    {
      "cell_type": "markdown",
      "metadata": {
        "id": "OeWS-e9kXfbS"
      },
      "source": [
        "## 3 Modelo\n",
        "\n",
        "<!-- Torchvision provee una familia de [modelos](https://pytorch.org/docs/1.6.0/torchvision/models.html#classification) preentrenados en ImageNet. Usaremos [Shufflenet V2](https://arxiv.org/abs/1807.11164), una arquitectura eficiente para clasificación de imágenes.  -->"
      ]
    },
    {
      "cell_type": "markdown",
      "metadata": {
        "id": "VV0UOw6BXfbT"
      },
      "source": [
        "### 3.1 Definición de arquitectura"
      ]
    },
    {
      "cell_type": "code",
      "metadata": {
        "id": "XL9Q-TKCXfbT"
      },
      "source": [
        "class BiRNN(nn.Module):\n",
        "    def __init__(self, input_size=1024, hidden_size=128, num_layers = 1, num_classes=11, subsampling = 'last_step'):\n",
        "        super().__init__()\n",
        "        self.subsampling = subsampling\n",
        "        self.hidden_size = hidden_size\n",
        "        self.num_layers = num_layers\n",
        "        self.bn = nn.BatchNorm1d(input_size)\n",
        "        self.rnn = nn.GRU(input_size, hidden_size, num_layers, batch_first=True, bidirectional=True)\n",
        "        self.fc = nn.Linear(hidden_size*2, num_classes)  # 2 para bidirección\n",
        "    \n",
        "    def forward(self, x):\n",
        "        # Establece estados iniciales\n",
        "        h0 = torch.zeros(self.num_layers*2, x.size()[0], self.hidden_size).to(device)# 2 para bidirección \n",
        "        # [B, S, F] => [B, F, S]\n",
        "        x = x.movedim(1, 2)\n",
        "        # [B, F, S]\n",
        "        x = self.bn(x)\n",
        "        # [B, F, S] => [B, S, F]\n",
        "        x = x.movedim(1, 2)\n",
        "        \n",
        "        # Propagación hacia adelante de la GRU\n",
        "        # [B, S, F] => [B, S, H]\n",
        "        out, _ = self.rnn(x, h0)  # out: tensor de la forma (batch_size, seq_length, hidden_size*2)\n",
        "        \n",
        "        # Decodifica el estado oculto del último paso de tiempo\n",
        "        if self.subsampling == \"last_step\":\n",
        "          out = self.fc(out[:, -1, :])\n",
        "        # Se toma el promedio de la secuencia\n",
        "        elif self.subsampling == \"mean\":\n",
        "          out = self.fc(torch.mean(out, 1))\n",
        "        else:\n",
        "          raise ValueError(\"invalid subsampling parameter: Must be either 'last_step' or 'mean'\")\n",
        "        return out\n",
        "\n",
        "\n",
        "class CNN1DModule(nn.Module):\n",
        "  def __init__(self, in_channels = 10, out_channels = 512, num_classes = 11, kernel_size = 5, stride = 2, padding = 0, dilation = 1):\n",
        "    super().__init__()\n",
        "    self.feats = 256*249\n",
        "    self.cnn = nn.Sequential(\n",
        "      #[B, 10, 1024] => [B, 512, 510]\n",
        "      nn.Conv1d(in_channels = in_channels, out_channels = out_channels, kernel_size = kernel_size, stride = stride, padding = padding, dilation = dilation),\n",
        "      #[B, 512, 510] => [B, 512, 510]\n",
        "      nn.BatchNorm1d(out_channels),\n",
        "      #[B, 512, 510] => [B, 256, 253]\n",
        "      nn.Conv1d(in_channels = out_channels, out_channels = out_channels//2, kernel_size = kernel_size, stride = stride, padding = padding, dilation = dilation),\n",
        "      #[B, 256, 253] => [B, 256, 253]\n",
        "      nn.BatchNorm1d(out_channels//2),\n",
        "      #[B, 256, 253] => [B, 256, 249]\n",
        "      nn.Conv1d(in_channels = out_channels//2, out_channels = out_channels//2, kernel_size = kernel_size, stride = stride//2, padding = padding, dilation = dilation),\n",
        "      # #[B, 256, 249] => [B, 256, 249]\n",
        "      nn.BatchNorm1d(out_channels//2)\n",
        "    )\n",
        "    #[B, 256, 125] => 256x125\n",
        "    self.flatten = nn.Flatten()\n",
        "    #[B, 256x125] => [B, 11]\n",
        "    self.fc = nn.Sequential(\n",
        "        # nn.ReLU(),\n",
        "        # nn.Linear(self.feats, 20),\n",
        "        nn.ReLU(),\n",
        "        nn.Linear(self.feats, num_classes)\n",
        "      )\n",
        "    \n",
        "  def forward(self, x):\n",
        "    cnn_out = self.cnn(x)\n",
        "    cnn_flatten = self.flatten(cnn_out)\n",
        "    out = self.fc(cnn_flatten)\n",
        "    return out\n",
        "\n"
      ],
      "execution_count": 119,
      "outputs": []
    },
    {
      "cell_type": "code",
      "metadata": {
        "id": "qnAp2-JDXfbT"
      },
      "source": [
        "model_last = BiRNN(num_layers=4).to(device).eval()\n",
        "model_mean = BiRNN(num_layers=4, subsampling='mean').to(device).eval()\n",
        "model_cnn1d = CNN1DModule().eval()"
      ],
      "execution_count": 127,
      "outputs": []
    },
    {
      "cell_type": "code",
      "metadata": {
        "colab": {
          "base_uri": "https://localhost:8080/"
        },
        "id": "m6KI5DRbYLTf",
        "outputId": "901a73d9-eeb1-43cf-88db-6d8e77c2b706"
      },
      "source": [
        "model_last(torch.zeros(1, 10, 1024).to(device)).shape"
      ],
      "execution_count": 129,
      "outputs": [
        {
          "output_type": "execute_result",
          "data": {
            "text/plain": [
              "torch.Size([1, 11])"
            ]
          },
          "metadata": {},
          "execution_count": 129
        }
      ]
    },
    {
      "cell_type": "code",
      "metadata": {
        "colab": {
          "base_uri": "https://localhost:8080/"
        },
        "id": "6Q9oQOhfxzJD",
        "outputId": "07cb1b22-e273-4c42-d296-3eb15afc1018"
      },
      "source": [
        "model_mean(torch.zeros(1, 10, 1024).to(device)).shape"
      ],
      "execution_count": 130,
      "outputs": [
        {
          "output_type": "execute_result",
          "data": {
            "text/plain": [
              "torch.Size([1, 11])"
            ]
          },
          "metadata": {},
          "execution_count": 130
        }
      ]
    },
    {
      "cell_type": "code",
      "metadata": {
        "colab": {
          "base_uri": "https://localhost:8080/"
        },
        "id": "NCX99oqZhpJs",
        "outputId": "ed1b4fec-e6b7-4e37-df0b-15793423735e"
      },
      "source": [
        "model_cnn1d(torch.zeros(1, 10, 1024)).shape"
      ],
      "execution_count": 131,
      "outputs": [
        {
          "output_type": "execute_result",
          "data": {
            "text/plain": [
              "torch.Size([1, 11])"
            ]
          },
          "metadata": {},
          "execution_count": 131
        }
      ]
    },
    {
      "cell_type": "markdown",
      "metadata": {
        "id": "mhuVx6ZWXfbT"
      },
      "source": [
        "### 3.2 Inspección de arquitectura"
      ]
    },
    {
      "cell_type": "code",
      "metadata": {
        "colab": {
          "base_uri": "https://localhost:8080/"
        },
        "id": "7zlXsHNjx9qr",
        "outputId": "0c188c9c-e789-48f8-d523-3b425d30b220"
      },
      "source": [
        "summary(model_mean, (1, 10, 1024), device = device, verbose=0)"
      ],
      "execution_count": 132,
      "outputs": [
        {
          "output_type": "execute_result",
          "data": {
            "text/plain": [
              "==========================================================================================\n",
              "Layer (type:depth-idx)                   Output Shape              Param #\n",
              "==========================================================================================\n",
              "BiRNN                                    --                        --\n",
              "├─BatchNorm1d: 1-1                       [1, 1024, 10]             2,048\n",
              "├─GRU: 1-2                               [1, 10, 256]              1,775,616\n",
              "├─Linear: 1-3                            [1, 11]                   2,827\n",
              "==========================================================================================\n",
              "Total params: 1,780,491\n",
              "Trainable params: 1,780,491\n",
              "Non-trainable params: 0\n",
              "Total mult-adds (M): 17.76\n",
              "==========================================================================================\n",
              "Input size (MB): 0.04\n",
              "Forward/backward pass size (MB): 0.10\n",
              "Params size (MB): 7.12\n",
              "Estimated Total Size (MB): 7.27\n",
              "=========================================================================================="
            ]
          },
          "metadata": {},
          "execution_count": 132
        }
      ]
    },
    {
      "cell_type": "code",
      "metadata": {
        "id": "91Kyh5Y3XfbT",
        "colab": {
          "base_uri": "https://localhost:8080/"
        },
        "outputId": "07904c21-f854-4bd8-a8a3-aaca3c4b6c50"
      },
      "source": [
        "summary(model_last, (1, 10, 1024), device=device, verbose=0)"
      ],
      "execution_count": 133,
      "outputs": [
        {
          "output_type": "execute_result",
          "data": {
            "text/plain": [
              "==========================================================================================\n",
              "Layer (type:depth-idx)                   Output Shape              Param #\n",
              "==========================================================================================\n",
              "BiRNN                                    --                        --\n",
              "├─BatchNorm1d: 1-1                       [1, 1024, 10]             2,048\n",
              "├─GRU: 1-2                               [1, 10, 256]              1,775,616\n",
              "├─Linear: 1-3                            [1, 11]                   2,827\n",
              "==========================================================================================\n",
              "Total params: 1,780,491\n",
              "Trainable params: 1,780,491\n",
              "Non-trainable params: 0\n",
              "Total mult-adds (M): 17.76\n",
              "==========================================================================================\n",
              "Input size (MB): 0.04\n",
              "Forward/backward pass size (MB): 0.10\n",
              "Params size (MB): 7.12\n",
              "Estimated Total Size (MB): 7.27\n",
              "=========================================================================================="
            ]
          },
          "metadata": {},
          "execution_count": 133
        }
      ]
    },
    {
      "cell_type": "code",
      "metadata": {
        "colab": {
          "base_uri": "https://localhost:8080/"
        },
        "id": "C-8cXk5ADyRu",
        "outputId": "92aaecd6-c892-47d6-d4ad-f6c85d525d87"
      },
      "source": [
        "summary(model_cnn1d, (1, 10, 1024), device=device, verbose=0)"
      ],
      "execution_count": 134,
      "outputs": [
        {
          "output_type": "execute_result",
          "data": {
            "text/plain": [
              "==========================================================================================\n",
              "Layer (type:depth-idx)                   Output Shape              Param #\n",
              "==========================================================================================\n",
              "CNN1DModule                              --                        --\n",
              "├─Sequential: 1-1                        [1, 256, 249]             --\n",
              "│    └─Conv1d: 2-1                       [1, 512, 510]             26,112\n",
              "│    └─BatchNorm1d: 2-2                  [1, 512, 510]             1,024\n",
              "│    └─Conv1d: 2-3                       [1, 256, 253]             655,616\n",
              "│    └─BatchNorm1d: 2-4                  [1, 256, 253]             512\n",
              "│    └─Conv1d: 2-5                       [1, 256, 249]             327,936\n",
              "│    └─BatchNorm1d: 2-6                  [1, 256, 249]             512\n",
              "├─Flatten: 1-2                           [1, 63744]                --\n",
              "├─Sequential: 1-3                        [1, 11]                   --\n",
              "│    └─ReLU: 2-7                         [1, 63744]                --\n",
              "│    └─Linear: 2-8                       [1, 11]                   701,195\n",
              "==========================================================================================\n",
              "Total params: 1,712,907\n",
              "Trainable params: 1,712,907\n",
              "Non-trainable params: 0\n",
              "Total mult-adds (M): 261.55\n",
              "==========================================================================================\n",
              "Input size (MB): 0.04\n",
              "Forward/backward pass size (MB): 6.23\n",
              "Params size (MB): 6.85\n",
              "Estimated Total Size (MB): 13.13\n",
              "=========================================================================================="
            ]
          },
          "metadata": {},
          "execution_count": 134
        }
      ]
    },
    {
      "cell_type": "markdown",
      "metadata": {
        "id": "wqQ540T3XfbU"
      },
      "source": [
        "## 4 Entrenamiento"
      ]
    },
    {
      "cell_type": "markdown",
      "metadata": {
        "id": "k0z_bNPbXfbU"
      },
      "source": [
        "### 4.1 Ciclo de entrenamiento"
      ]
    },
    {
      "cell_type": "code",
      "metadata": {
        "id": "VSTIb90bXfbU"
      },
      "source": [
        "def eval_epoch(model, dl):\n",
        "  # desactivamos temporalmente la gráfica de cómputo\n",
        "  with torch.no_grad():\n",
        "\n",
        "      # modelo en modo de evaluación\n",
        "      model.eval()\n",
        "      \n",
        "      losses, accs = [], []\n",
        "      # validación de la época\n",
        "      for x, y_true in dl:\n",
        "          # movemos a dispositivo\n",
        "          x = x.to(device)\n",
        "          y_true = y_true.to(device)\n",
        "          # hacemos inferencia para obtener los logits\n",
        "          y_lgts = model(x)\n",
        "          # calculamos las probabilidades\n",
        "          y_prob = F.softmax(y_lgts, 1)\n",
        "          # obtenemos la clase predicha\n",
        "          y_pred = torch.argmax(y_prob, 1)\n",
        "          \n",
        "          # calculamos la pérdida\n",
        "          loss = F.cross_entropy(y_lgts, y_true)\n",
        "          # calculamos la exactitud\n",
        "          acc = (y_true == y_pred).type(torch.float32).mean()\n",
        "\n",
        "          # guardamos históricos\n",
        "          losses.append(loss.item() * 100)\n",
        "          accs.append(acc.item() * 100)\n",
        "\n",
        "      # imprimimos métricas\n",
        "      loss = np.mean(losses)\n",
        "      acc = np.mean(accs)\n",
        "      return loss, acc\n",
        "\n",
        "\n",
        "def train(model):\n",
        "  # optimizador\n",
        "  opt = optim.Adam(model.parameters(), lr=1e-3)\n",
        "  trn_loss_hist, trn_acc_hist, tst_loss_hist, tst_acc_hist = [], [], [], []\n",
        "  # ciclo de entrenamiento\n",
        "  EPOCHS = 20\n",
        "  for epoch in range(EPOCHS):\n",
        "\n",
        "      # modelo en modo de entrenamiento\n",
        "      model.train()\n",
        "      \n",
        "      # entrenamiento de una época\n",
        "      for x, y_true in trn_dl:\n",
        "          # movemos a dispositivo\n",
        "          x = x.to(device)\n",
        "          y_true = y_true.to(device)\n",
        "          # hacemos inferencia para obtener los logits\n",
        "          y_lgts = model(x)\n",
        "          # calculamos la pérdida\n",
        "          loss = F.cross_entropy(y_lgts, y_true)\n",
        "          # vaciamos los gradientes\n",
        "          opt.zero_grad()\n",
        "          # retropropagamos\n",
        "          loss.backward()\n",
        "          # actulizamos parámetros\n",
        "          opt.step()\n",
        "      #Validación en entrenamiento\n",
        "      loss_trn, acc_trn = eval_epoch(model, trn_dl)\n",
        "      #Validación en prueba\n",
        "      loss_tst, acc_tst = eval_epoch(model, tst_dl)\n",
        "      trn_loss_hist.append(loss_trn)\n",
        "      trn_acc_hist.append(acc_trn)\n",
        "      tst_loss_hist.append(loss_tst)\n",
        "      tst_acc_hist.append(acc_tst)\n",
        "      print(f'E{epoch:2} loss={loss_tst:6.2f} acc={acc_tst:.2f}')\n",
        "  return trn_loss_hist, trn_acc_hist, tst_loss_hist, tst_acc_hist"
      ],
      "execution_count": 144,
      "outputs": []
    },
    {
      "cell_type": "code",
      "metadata": {
        "id": "Y7ONjEVTWHpj"
      },
      "source": [
        "model_last = BiRNN(num_layers=4).to(device)\n",
        "model_mean = BiRNN(num_layers=4, subsampling='mean').to(device)\n",
        "model_cnn1d = CNN1DModule().to(device)"
      ],
      "execution_count": 145,
      "outputs": []
    },
    {
      "cell_type": "code",
      "metadata": {
        "colab": {
          "base_uri": "https://localhost:8080/"
        },
        "id": "0CtYMgZbaeEa",
        "outputId": "01fb8ec7-e47b-4617-ae90-87ca7a9ca25c"
      },
      "source": [
        "trn_loss_hist_rnn_l, trn_acc_hist_rnn_l, tst_loss_hist_rnn_l, tst_acc_hist_rnn_l = train(model_last)"
      ],
      "execution_count": 146,
      "outputs": [
        {
          "output_type": "stream",
          "name": "stdout",
          "text": [
            "E 0 loss=195.86 acc=35.31\n",
            "E 1 loss=159.46 acc=50.94\n",
            "E 2 loss=175.96 acc=47.19\n",
            "E 3 loss=160.52 acc=50.31\n",
            "E 4 loss=173.72 acc=52.19\n",
            "E 5 loss=192.83 acc=51.56\n",
            "E 6 loss=194.73 acc=50.00\n",
            "E 7 loss=190.93 acc=55.62\n",
            "E 8 loss=205.38 acc=53.44\n",
            "E 9 loss=221.62 acc=50.94\n",
            "E10 loss=217.91 acc=52.50\n",
            "E11 loss=207.73 acc=54.38\n",
            "E12 loss=229.74 acc=53.44\n",
            "E13 loss=242.53 acc=53.12\n",
            "E14 loss=245.35 acc=52.50\n",
            "E15 loss=209.82 acc=56.56\n",
            "E16 loss=216.69 acc=54.38\n",
            "E17 loss=212.03 acc=57.19\n",
            "E18 loss=223.18 acc=56.88\n",
            "E19 loss=216.25 acc=55.62\n"
          ]
        }
      ]
    },
    {
      "cell_type": "code",
      "metadata": {
        "colab": {
          "base_uri": "https://localhost:8080/"
        },
        "id": "qABySoc3yal0",
        "outputId": "09157468-ffdd-4e87-f4ee-8efe1ce0d504"
      },
      "source": [
        "trn_loss_hist_rnn_m, trn_acc_hist_rnn_m, tst_loss_hist_rnn_m, tst_acc_hist_rnn_m = train(model_mean)"
      ],
      "execution_count": 147,
      "outputs": [
        {
          "output_type": "stream",
          "name": "stdout",
          "text": [
            "E 0 loss=183.60 acc=40.31\n",
            "E 1 loss=165.57 acc=48.12\n",
            "E 2 loss=151.38 acc=54.38\n",
            "E 3 loss=162.34 acc=52.50\n",
            "E 4 loss=170.47 acc=53.44\n",
            "E 5 loss=168.78 acc=52.50\n",
            "E 6 loss=179.10 acc=57.50\n",
            "E 7 loss=188.55 acc=54.38\n",
            "E 8 loss=173.37 acc=57.81\n",
            "E 9 loss=186.34 acc=55.62\n",
            "E10 loss=176.58 acc=57.50\n",
            "E11 loss=183.21 acc=57.19\n",
            "E12 loss=194.40 acc=56.56\n",
            "E13 loss=203.75 acc=55.62\n",
            "E14 loss=195.20 acc=57.50\n",
            "E15 loss=191.91 acc=58.75\n",
            "E16 loss=199.17 acc=56.25\n",
            "E17 loss=206.03 acc=56.56\n",
            "E18 loss=199.54 acc=56.56\n",
            "E19 loss=218.02 acc=57.50\n"
          ]
        }
      ]
    },
    {
      "cell_type": "code",
      "metadata": {
        "colab": {
          "base_uri": "https://localhost:8080/"
        },
        "id": "geh4mpKYzZN0",
        "outputId": "3795180d-c3b7-4a31-b99c-c147b7f36179"
      },
      "source": [
        "trn_loss_hist_cnn, trn_acc_hist_cnn, tst_loss_hist_cnn, tst_acc_hist_cnn = train(model_cnn1d)"
      ],
      "execution_count": 148,
      "outputs": [
        {
          "output_type": "stream",
          "name": "stdout",
          "text": [
            "E 0 loss=314.23 acc=22.50\n",
            "E 1 loss=291.00 acc=29.38\n",
            "E 2 loss=284.09 acc=29.38\n",
            "E 3 loss=197.89 acc=42.81\n",
            "E 4 loss=204.96 acc=39.06\n",
            "E 5 loss=203.41 acc=43.75\n",
            "E 6 loss=236.98 acc=37.81\n",
            "E 7 loss=248.24 acc=42.19\n",
            "E 8 loss=223.06 acc=46.25\n",
            "E 9 loss=212.71 acc=43.12\n",
            "E10 loss=199.99 acc=49.06\n",
            "E11 loss=212.28 acc=42.19\n",
            "E12 loss=269.55 acc=34.69\n",
            "E13 loss=200.33 acc=42.50\n",
            "E14 loss=193.09 acc=48.75\n",
            "E15 loss=231.64 acc=41.56\n",
            "E16 loss=235.61 acc=45.94\n",
            "E17 loss=233.90 acc=43.12\n",
            "E18 loss=214.27 acc=46.25\n",
            "E19 loss=227.85 acc=39.69\n"
          ]
        }
      ]
    },
    {
      "cell_type": "code",
      "metadata": {
        "colab": {
          "base_uri": "https://localhost:8080/",
          "height": 1000
        },
        "id": "g0bzvEJPmwz6",
        "outputId": "45074aec-53cd-4e6c-9f2b-e875b10daabf"
      },
      "source": [
        "# gráficas\n",
        "import matplotlib.pyplot as plt\n",
        "plt.plot(trn_loss_hist_rnn_l, color='red', label = \"Entrenamiento\")\n",
        "plt.plot(tst_loss_hist_rnn_l, color='blue', label = \"Validación\")\n",
        "plt.xlabel('época')\n",
        "plt.ylabel('pérdida')\n",
        "plt.suptitle('Pérdida en RNN con submuestreo del último paso')\n",
        "plt.legend()\n",
        "plt.show()\n",
        "\n",
        "plt.plot(trn_acc_hist_rnn_l, color='red', label = \"Entrenamiento\")\n",
        "plt.plot(tst_acc_hist_rnn_l, color='blue', label = \"Validación\")\n",
        "plt.xlabel('época')\n",
        "plt.ylabel('exactitud')\n",
        "plt.suptitle('Exactitud en RNN con submuestreo del último paso')\n",
        "plt.legend()\n",
        "plt.show()\n",
        "\n",
        "plt.plot(trn_loss_hist_rnn_m, color='red', label = \"Entrenamiento\")\n",
        "plt.plot(tst_loss_hist_rnn_m, color='blue', label = \"Validación\")\n",
        "plt.xlabel('época')\n",
        "plt.ylabel('pérdida')\n",
        "plt.suptitle('Pérdida en RNN con submuestreo de la media')\n",
        "plt.legend()\n",
        "plt.show()\n",
        "\n",
        "plt.plot(trn_acc_hist_rnn_m, color='red', label = \"Entrenamiento\")\n",
        "plt.plot(tst_acc_hist_rnn_m, color='blue', label = \"Validación\")\n",
        "plt.xlabel('época')\n",
        "plt.ylabel('exactitud')\n",
        "plt.suptitle('Exactitud en RNN con submuestreo de la media')\n",
        "plt.legend()\n",
        "plt.show()\n",
        "\n",
        "\n",
        "plt.plot(trn_loss_hist_cnn, color='red', label = \"Entrenamiento\")\n",
        "plt.plot(tst_loss_hist_cnn, color='blue', label = \"Validación\")\n",
        "plt.xlabel('época')\n",
        "plt.ylabel('pérdida')\n",
        "plt.suptitle('Pérdida en CNN1D')\n",
        "plt.legend()\n",
        "plt.show()\n",
        "\n",
        "plt.plot(trn_acc_hist_cnn, color='red', label = \"Entrenamiento\")\n",
        "plt.plot(tst_acc_hist_cnn, color='blue', label = \"Validación\")\n",
        "plt.xlabel('época')\n",
        "plt.ylabel('exactitud')\n",
        "plt.suptitle('Exactitud en CNN1D')\n",
        "plt.legend()\n",
        "plt.show()"
      ],
      "execution_count": 155,
      "outputs": [
        {
          "output_type": "display_data",
          "data": {
            "image/png": "[encoded data removed]",
            "text/plain": [
              "<Figure size 432x288 with 1 Axes>"
            ]
          },
          "metadata": {
            "needs_background": "light"
          }
        },
        {
          "output_type": "display_data",
          "data": {
            "image/png": "[encoded data removed]",
            "text/plain": [
              "<Figure size 432x288 with 1 Axes>"
            ]
          },
          "metadata": {
            "needs_background": "light"
          }
        },
        {
          "output_type": "display_data",
          "data": {
            "image/png": "[encoded data removed]",
            "text/plain": [
              "<Figure size 432x288 with 1 Axes>"
            ]
          },
          "metadata": {
            "needs_background": "light"
          }
        },
        {
          "output_type": "display_data",
          "data": {
            "image/png": "[encoded data removed]",
            "text/plain": [
              "<Figure size 432x288 with 1 Axes>"
            ]
          },
          "metadata": {
            "needs_background": "light"
          }
        },
        {
          "output_type": "display_data",
          "data": {
            "image/png": "[encoded data removed]",
            "text/plain": [
              "<Figure size 432x288 with 1 Axes>"
            ]
          },
          "metadata": {
            "needs_background": "light"
          }
        },
        {
          "output_type": "display_data",
          "data": {
            "image/png": "[encoded data removed]",
            "text/plain": [
              "<Figure size 432x288 with 1 Axes>"
            ]
          },
          "metadata": {
            "needs_background": "light"
          }
        }
      ]
    },
    {
      "cell_type": "markdown",
      "metadata": {
        "id": "BF5Aul_5v5I6"
      },
      "source": [
        "## 5 Discusión\n",
        "Las RNN Bidireccionales con muestreo del último paso y de la media tuvieron resultados similares. Ambas presentaron un pobre desempeño en cuanto a exactitud se refiere en validación y altos porcentajes de exactitud en entrenamiento, sugiriendo un sobreajuste. Aunque no se muestra en los resultados, se pudo observar que aumentar la cantidad de parámetros pasando de una a cuatro capas mejoró el desempeño de la RNN con submuestreo en el último paso. Se presenta una historia similar para la red neuronal convolucional 1D en cuanto a una posible deficiencia en cuanto a la generalización, sólo que en este caso se tuvo un peor desempeño que con las RNN."
      ]
    }
  ]
}